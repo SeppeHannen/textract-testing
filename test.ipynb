{
 "cells": [
  {
   "cell_type": "code",
   "execution_count": 13,
   "metadata": {},
   "outputs": [
    {
     "data": {
      "text/plain": [
       "dict_keys(['What is the name of the certification company?', 'What is the name of the company that was certified?'])"
      ]
     },
     "execution_count": 13,
     "metadata": {},
     "output_type": "execute_result"
    }
   ],
   "source": [
    "from src.state import update_ground_truth, get_truths\n",
    "\n",
    "# Update the state of the library using a Sagemaker Ground Truth labeling job\n",
    "update_ground_truth('textract-pdf-labeling-job-1-labeling-job-20230202T120436')\n",
    "\n",
    "# Get a list of all queries that have Ground Truths supplied by the labeling job\n",
    "get_truths()"
   ]
  },
  {
   "cell_type": "code",
   "execution_count": 14,
   "metadata": {},
   "outputs": [
    {
     "name": "stdout",
     "output_type": "stream",
     "text": [
      "1.0\n",
      "[{'Document': 's3://comprehend-semi-structured-docs-eu-central-1-034822432126/src/Mock doc 1.pdf', 'Textract': 'Big Certificates Company', 'Truth': 'Big Certificates Company'}, {'Document': 's3://comprehend-semi-structured-docs-eu-central-1-034822432126/src/Mock doc 2.pdf', 'Textract': 'Medium Certificates Company', 'Truth': 'Medium Certificates Company'}, {'Document': 's3://comprehend-semi-structured-docs-eu-central-1-034822432126/src/Mock doc 3.pdf', 'Textract': 'Small Certificates Company', 'Truth': 'Small Certificates Company'}]\n"
     ]
    }
   ],
   "source": [
    "from src.textract_testing import Hypothesis\n",
    "\n",
    "# Create a hypothesis of a query\n",
    "query_1 = Hypothesis('What is the name of the certification company?')\n",
    "\n",
    "# Add a truth to the query (you named the truths during the creation of the labeling job)\n",
    "query_1.add_truth('What is the name of the certification company?')\n",
    "\n",
    "accuracy, results = query_1.get_accuracy()\n",
    "\n",
    "print(accuracy)\n",
    "print(results)"
   ]
  }
 ],
 "metadata": {
  "kernelspec": {
   "display_name": "Python 3",
   "language": "python",
   "name": "python3"
  },
  "language_info": {
   "codemirror_mode": {
    "name": "ipython",
    "version": 3
   },
   "file_extension": ".py",
   "mimetype": "text/x-python",
   "name": "python",
   "nbconvert_exporter": "python",
   "pygments_lexer": "ipython3",
   "version": "3.10.7"
  },
  "orig_nbformat": 4,
  "vscode": {
   "interpreter": {
    "hash": "56261eee7e3fe149d9229ea799dcd751d0068218415b1c046b1c0e0924b6b162"
   }
  }
 },
 "nbformat": 4,
 "nbformat_minor": 2
}
